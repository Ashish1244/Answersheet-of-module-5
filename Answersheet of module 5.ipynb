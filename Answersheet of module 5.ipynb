{
 "cells": [
  {
   "cell_type": "markdown",
   "id": "71cfe3e5-a66e-45ff-a2db-b9ecad221ec9",
   "metadata": {},
   "source": [
    "# 1. What is Object-Oriented Programming (OOP).\n",
    "  - Object-Oriented Programming (OOP) is a programming paradigm that organizes software around objects, which are data structures that contain both data (attributes) and the functions (methods) that operate on that data. These objects are created from blueprints called classes, which define their properties and behaviors. OOP uses core principles like encapsulation, inheritance, polymorphism, and abstraction to build modular, reusable, and maintainable code, making it ideal for large-scale projects"
   ]
  },
  {
   "cell_type": "markdown",
   "id": "72c34622-8538-4598-81ad-f093be80e405",
   "metadata": {},
   "source": [
    "# 2. What is a class in OOP?\n",
    "  - In Object-Oriented Programming (OOP), a class serves as a blueprint or template for creating objects. It defines the structure and behavior that its objects will possess. "
   ]
  },
  {
   "cell_type": "markdown",
   "id": "f64ea59b-6d0c-48b0-9993-826333f80280",
   "metadata": {},
   "source": [
    "# 3. What is an object in OOP?\n",
    "  - In Object-Oriented Programming (OOP), an object is a fundamental concept representing a real-world entity or a specific instance of a class. It is a self-contained unit that combines both data (attributes or properties) and functionality (methods or behaviors) that operate on that data."
   ]
  },
  {
   "cell_type": "markdown",
   "id": "43f4428b-ca33-448d-b965-784e682f6f22",
   "metadata": {},
   "source": [
    "# 4. What is the difference between abstraction and encapsulation.\n",
    "  - Abstraction focuses on hiding implementation details and exposing only essential features (the \"what\"), while encapsulation is the mechanism for bundling data and methods together in a single unit and restricting access (the \"how\") to protect data integrity."
   ]
  },
  {
   "cell_type": "markdown",
   "id": "3d1123e4-4fb7-41c0-a5ff-2360d3e4d103",
   "metadata": {},
   "source": [
    "# 5. What are dunder methods in Python.\n",
    "  - Dunder methods, also known as magic methods, are special methods in Python that are distinguished by having double underscores at both the beginning and end of their names (e.g., __init__, __add__, __str__). The term \"dunder\" is a contraction of \"double underscore.\" "
   ]
  },
  {
   "cell_type": "markdown",
   "id": "80368f90-87df-4609-9a0a-254132f71402",
   "metadata": {},
   "source": [
    "# 6. Explain the concept of inheritance in OOP.\n",
    "  - Inheritance is a mechanism that allows a new class (derived class or child class) to acquire the properties (data members) and behaviors (methods) of an existing class (base class or parent class)."
   ]
  },
  {
   "cell_type": "markdown",
   "id": "e93a1b14-9d8b-46cc-995b-afe6c6a83d0d",
   "metadata": {},
   "source": [
    "# 7. What is polymorphism in OOP.\n",
    "  - Polymorphism in OOP is the concept that an object, reference, or method can take on many forms and behave differently depending on the context. This allows for flexible and adaptable programs where a single interface can be used to interact with different objects, with each object providing its own specific implementation."
   ]
  },
  {
   "cell_type": "markdown",
   "id": "2c0787e1-ac36-4864-b4f3-aaa4e0f77318",
   "metadata": {},
   "source": [
    "# 8. How is encapsulation achieved in Python.\n",
    "  - Encapsulation in Python, while not as strictly enforced as in some other object-oriented languages like Java, is achieved through conventions and mechanisms that promote data hiding and controlled access to an object's internal state.\n",
    "  - Private and Protected Members:\n",
    "     - Private members: Attributes or methods prefixed with a double underscore (__) are considered \"private.\n",
    "     - Protected members: Attributes or methods prefixed with a single underscore (_) are considered \"protected.\n",
    "    "
   ]
  },
  {
   "cell_type": "markdown",
   "id": "16450db8-4bcf-4715-85ec-33b9cfbb8be0",
   "metadata": {},
   "source": [
    "# 9. What is a constructor in Python.\n",
    "  - A constructor is a special method used to initialize objects when they are created from a class. Its primary role is to set up the initial state of the object by assigning values to its attributes.\n",
    "  - __init__ Method: In Python, the constructor is defined using the special method __init__. This method is automatically called whenever a new object (instance) of a class is created."
   ]
  },
  {
   "cell_type": "markdown",
   "id": "de8e4844-99d7-43c6-9ee8-7dd99d5c0e2a",
   "metadata": {},
   "source": [
    "# 10. What are class and static methods in Python.\n",
    "  -  both class methods and static methods are defined within a class but differ in how they interact with the class and its instances.\n",
    "     - Class Methods:\n",
    "       - Definition: A class method is bound to the class and receives the class itself as its first argument, conventionally named cls. It is defined using the @classmethod decorator.\n",
    "     - Static Methods:\n",
    "       - Definition: A static method is a function defined within a class but does not receive the class (cls) or instance (self) as its first argument. It is defined using the @staticmethod decorator."
   ]
  },
  {
   "cell_type": "markdown",
   "id": "d4f9435b-0610-43cf-9ce8-e1c9d6916fc5",
   "metadata": {},
   "source": [
    "# 11. What is method overloading in Python.\n",
    "  - Method overloading refers to the ability to define multiple methods within the same class that share the same name but differ in their parameter lists (e.g., number, type, or order of arguments). When an overloaded method is called, the specific version executed depends on the arguments passed during the call."
   ]
  },
  {
   "cell_type": "markdown",
   "id": "c222d32b-ccb1-4f41-846f-6ad515033adf",
   "metadata": {},
   "source": [
    "# 12. What is method overriding in OOP.\n",
    "  - Method overriding in OOP is when a subclass provides its own specific implementation of a method that already exists in its parent class, using the exact same method name, return type, and parameters. "
   ]
  },
  {
   "cell_type": "markdown",
   "id": "3c2be538-e408-455f-810d-24044868494d",
   "metadata": {},
   "source": [
    "# 13. What is a property decorator in Python.\n",
    "  - The @property decorator in Python is a built-in decorator that allows you to define methods within a class that can be accessed and manipulated as if they were attributes. It provides a \"Pythonic\" way to implement getters, setters, and deleters for class attributes, offering more control over how attributes are accessed, modified, and deleted. "
   ]
  },
  {
   "cell_type": "markdown",
   "id": "18eda30f-2186-4310-a315-add6279ab10e",
   "metadata": {},
   "source": [
    "# 14. Why is polymorphism important in OOP.\n",
    "  - Polymorphism is important in OOP because it enables code reusability, flexibility, and extensibility by allowing objects of different types to be treated as objects of a common supertype, respond to the same method calls in their own specific ways, and for new subclasses to be added without altering existing code."
   ]
  },
  {
   "cell_type": "markdown",
   "id": "20d3f940-149b-4be2-b3e8-2e72118c5f7e",
   "metadata": {},
   "source": [
    "# 15. What is an abstract class in Python.\n",
    "  - An abstract class is a class that cannot be instantiated directly and is designed to serve as a blueprint or template for other classes. It defines a common interface that its subclasses must implement. Python implements abstract classes using the abc (Abstract Base Classes) module. You need to inherit from ABC and use the @abstractmethod decorator for methods that must be implemented by subclasses."
   ]
  },
  {
   "cell_type": "markdown",
   "id": "0dd51e97-13ef-46d6-b039-5938643590f0",
   "metadata": {},
   "source": [
    "# 16.  What are the advantages of OOP.\n",
    "  - advantages of Object-Oriented Programming (OOP) are code reusability through inheritance, modularity for easier maintenance and collaboration, flexibility with polymorphism, enhanced security via encapsulation and abstraction, and scalability by allowing systems to be easily upgraded and expanded. OOP helps manage complex software by organizing code into self-contained objects, which simplifies debugging, boosts developer productivity, and leads to more robust, maintainable, and lower-cost software solutions. "
   ]
  },
  {
   "cell_type": "markdown",
   "id": "12e463ea-3296-443b-95b8-70eacf7498b7",
   "metadata": {},
   "source": [
    "# 17. What is the difference between a class variable and an instance variable.\n",
    "  - The difference between a class variable and an instance variable lies in their scope, ownership, and how they are accessed and modified.\n",
    "     - Class Variable:\n",
    "       - Scope and Ownership: A class variable belongs to the class itself, not to any specific instance of the class. There is only one copy of a class variable, which is shared by all instances of that class.\n",
    "       - Creation and Lifetime: Class variables are created when the class is loaded into memory and exist for the entire duration the class is in memory (typically until the program ends).\n",
    "       - Access: They can be accessed using the class name (e.g., ClassName.variable_name) or through an instance of the class (e.g., object_name.variable_name)."
   ]
  },
  {
   "cell_type": "markdown",
   "id": "a53f89ca-f0cb-4ee7-be13-ee7e0213f4f2",
   "metadata": {},
   "source": [
    "# 18. What is multiple inheritance in Python.\n",
    "  - Multiple inheritance in Python is an object-oriented programming concept where a single child class can inherit attributes and methods from more than one parent class. This allows the child class to combine functionalities and characteristics from various sources. "
   ]
  },
  {
   "cell_type": "markdown",
   "id": "ee54d53f-f366-48ac-a38b-1715ff5f7bc4",
   "metadata": {},
   "source": [
    "# 19. Explain the purpose of ‘’__str__’ and ‘__repr__’ ‘ methods in Python.\n",
    "  - __str__ and __repr__ are special methods (also known as \"dunder methods\") that define how an object is represented as a string. While both return string representations, their purposes and intended audiences differ.\n",
    "     - __str__ : string representation of an object.\n",
    "     - __repr__ :To provide an unambiguous, formal, and information-rich string representation of an object, primarily for debugging and development."
   ]
  },
  {
   "cell_type": "markdown",
   "id": "de192943-bc57-48e4-8187-17aa2fef8052",
   "metadata": {},
   "source": [
    "# 20. What is the significance of the ‘super()’ function in Python.\n",
    "  - The super() function in Python holds significant importance within the context of object-oriented programming, particularly concerning inheritance. Its primary role is to provide a mechanism for calling methods and accessing attributes of a parent or sibling class from a child or subclass."
   ]
  },
  {
   "cell_type": "markdown",
   "id": "c2a65ffe-a546-44aa-a08f-a9474fdb9157",
   "metadata": {},
   "source": [
    "# 21. What is the significance of the __del__ method in Python.\n",
    "  - The __del__ method in Python, often referred to as a destructor, holds significance primarily in resource management and cleanup. It is a special method that Python calls when an object is about to be destroyed, specifically when its reference count drops to zero and the garbage collector reclaims its memory."
   ]
  },
  {
   "cell_type": "markdown",
   "id": "e8f7a9ee-08a8-4235-a6d1-111de519ec14",
   "metadata": {},
   "source": [
    "# 22. What is the difference between @staticmethod and @classmethod in Python.\n",
    "  - The primary difference between @staticmethod and @classmethod in Python lies in their access to the class and its instances.\n",
    "    - @classmethod:\n",
    "      - Takes the class itself (cls) as its first argument.\n",
    "      - Can access and modify class-level attributes and call other class methods.\n",
    "      - Is commonly used for factory methods (creating instances in a specific way) or for methods that operate on class-level data.\n",
    "    - @staticmethod:\n",
    "      - Does not take self (instance) or cls (class) as its first argument.\n",
    "      - Cannot access or modify class-level attributes or instance-level attributes directly.\n",
    "      - Is essentially a regular function that is logically grouped within a class, but it does not depend on the state of the class or any instance."
   ]
  },
  {
   "cell_type": "markdown",
   "id": "a7d74218-2dec-43bc-91b0-cc38f16e11bc",
   "metadata": {},
   "source": [
    "# 23. How does polymorphism work in Python with inheritance.\n",
    "  - Polymorphism in Python, particularly in conjunction with inheritance, allows objects of different classes to be treated as objects of a common type, while still exhibiting their specific behaviors. This is primarily achieved through method overriding.\n",
    "    - Here's how it works:\n",
    "      - Inheritance: You establish a parent-child relationship between classes. A child class (subclass) inherits attributes and methods from its parent class (superclass).\n",
    "      - Method Overriding: If a child class needs to provide a different implementation for a method that it inherited from its parent class, it can redefine that method with the same name. This re-implementation is called method overriding.\n",
    "      - Polymorphism in Action: When you have a collection of objects from different (but related) classes that all share a common method name (either inherited or overridden), you can call that method on each object in a generic way. Python, using its dynamic typing and \"duck typing\" philosophy, will automatically determine which specific implementation of the method to execute based on the object's actual type at runtime."
   ]
  },
  {
   "cell_type": "markdown",
   "id": "3623e922-70ba-4185-8909-4dd30a2b00cb",
   "metadata": {},
   "source": [
    "# 24. What is method chaining in Python OOP.\n",
    "  - Method chaining in Python OOP is a programming style that allows you to call multiple methods sequentially on the same object in a single expression. This is achieved by designing methods within a class to return the object itself (typically self) after performing their operation."
   ]
  },
  {
   "cell_type": "markdown",
   "id": "c01543fa-358b-4d17-85d7-ab3693f45343",
   "metadata": {},
   "source": [
    "# 25. What is the purpose of the __call__ method in Python.\n",
    "  - The purpose of the __call__ method in Python is to make instances of a class callable, meaning they can be invoked like regular functions.\n",
    "When a class defines a __call__ method, you can create an instance of that class and then call the instance directly using parentheses, just as you would call a function."
   ]
  },
  {
   "cell_type": "markdown",
   "id": "d4b9f330-a15c-42a4-8572-a8598f44ee12",
   "metadata": {},
   "source": [
    "# PRACTICE QUESTIONS :--"
   ]
  },
  {
   "cell_type": "markdown",
   "id": "a14fd8d2-e9bc-41bc-857a-4b2c7df4cade",
   "metadata": {},
   "source": [
    "# 1.  Create a parent class Animal with a method speak() that prints a generic message. Create a child class Dog that overrides the speak() method to print \"Bark!\"."
   ]
  },
  {
   "cell_type": "code",
   "execution_count": 1,
   "id": "817468f8-5762-4ddf-a95d-0356183cd86e",
   "metadata": {},
   "outputs": [],
   "source": [
    "class Animal:\n",
    "    def speak(self):\n",
    "        print(\"This is an animal sound\")\n",
    "\n",
    "class Dog(Animal):\n",
    "    def speak(self):\n",
    "        print(\"Bark\")"
   ]
  },
  {
   "cell_type": "code",
   "execution_count": 2,
   "id": "6cf2f6b6-625e-452d-8fbb-a3de43d9ffb5",
   "metadata": {},
   "outputs": [
    {
     "name": "stdout",
     "output_type": "stream",
     "text": [
      "This is an animal sound\n"
     ]
    }
   ],
   "source": [
    "obj = Animal()\n",
    "obj.speak()"
   ]
  },
  {
   "cell_type": "code",
   "execution_count": 3,
   "id": "94bda19b-fbe4-4449-954a-15a4779eef86",
   "metadata": {},
   "outputs": [
    {
     "name": "stdout",
     "output_type": "stream",
     "text": [
      "Bark\n"
     ]
    }
   ],
   "source": [
    "obj1 = Dog()\n",
    "obj1.speak()"
   ]
  },
  {
   "cell_type": "markdown",
   "id": "75011ec4-5091-454b-885c-58ef0898c77c",
   "metadata": {},
   "source": [
    "# 2. Write a program to create an abstract class Shape with a method area(). Derive classes Circle and Rectangle from it and implement the area() method in both."
   ]
  },
  {
   "cell_type": "code",
   "execution_count": 4,
   "id": "72a59385-0cea-4a37-95cb-e165d467c8bc",
   "metadata": {},
   "outputs": [],
   "source": [
    "import abc\n",
    "class Shape:\n",
    "    @abc.abstractmethod\n",
    "    def area(self):\n",
    "        pass\n",
    "\n",
    "class Circle(Shape):\n",
    "    def area(self):\n",
    "        return \"Area of circle is 3.14 * radius * radius\"\n",
    "\n",
    "class Rectangle(Shape):\n",
    "    def area(self):\n",
    "        return \"Area of rectangle is length * width\""
   ]
  },
  {
   "cell_type": "code",
   "execution_count": 5,
   "id": "cedbb4e3-bd3d-4ebe-b979-9947523d7bd5",
   "metadata": {},
   "outputs": [
    {
     "data": {
      "text/plain": [
       "'Area of circle is 3.14 * radius * radius'"
      ]
     },
     "execution_count": 5,
     "metadata": {},
     "output_type": "execute_result"
    }
   ],
   "source": [
    "obj = Circle()\n",
    "obj.area()"
   ]
  },
  {
   "cell_type": "code",
   "execution_count": 6,
   "id": "0a0d66da-35ca-4a32-ae31-597eae25b687",
   "metadata": {},
   "outputs": [
    {
     "data": {
      "text/plain": [
       "'Area of rectangle is length * width'"
      ]
     },
     "execution_count": 6,
     "metadata": {},
     "output_type": "execute_result"
    }
   ],
   "source": [
    "obj2 = Rectangle()\n",
    "obj2.area()"
   ]
  },
  {
   "cell_type": "markdown",
   "id": "2b45b7d4-9d75-4bc4-acc0-6c63725b9204",
   "metadata": {},
   "source": [
    "# 3.  Implement a multi-level inheritance scenario where a class Vehicle has an attribute type. Derive a class Car and further derive a class ElectricCar that adds a battery attribute."
   ]
  },
  {
   "cell_type": "code",
   "execution_count": 7,
   "id": "18b2df00-cad5-4de1-921c-92964b004f24",
   "metadata": {},
   "outputs": [],
   "source": [
    "class Vehicle:\n",
    "    def __init__(self, vehicle_type):\n",
    "        self.type = vehicle_type\n",
    "        print(f\"Vehicle of type '{self.type}' created.\")\n",
    "\n",
    "    def display_type(self):\n",
    "        print(f\"Vehicle Type: {self.type}\")\n",
    "\n",
    "\n",
    "class Car(Vehicle):\n",
    "    def __init__(self, vehicle_type, make, model):\n",
    "        super().__init__(vehicle_type) \n",
    "        self.make = make\n",
    "        self.model = model\n",
    "        print(f\"Car: {self.make} {self.model}\")\n",
    "\n",
    "    def display_model(self):\n",
    "        print(f\"Make: {self.make}, Model: {self.model}\")\n",
    "\n",
    "class ElectricCar(Car):\n",
    "    def __init__(self, make, model, battery_capacity):\n",
    "        super().__init__(\"Electric\", make, model)  \n",
    "        self.battery_capacity = battery_capacity\n",
    "        print(f\"Battery Capacity: {self.battery_capacity} kWh\")\n",
    "\n",
    "    def display_battery(self):\n",
    "        print(f\"Battery Capacity: {self.battery_capacity} kWh\")"
   ]
  },
  {
   "cell_type": "code",
   "execution_count": 9,
   "id": "723d9084-5fba-4f57-8e56-25954a1c9809",
   "metadata": {},
   "outputs": [
    {
     "name": "stdout",
     "output_type": "stream",
     "text": [
      "Vehicle of type 'Electric' created.\n",
      "Car: BMW I8\n",
      "Battery Capacity: 100 kWh\n",
      "Battery Capacity: 100 kWh\n",
      "Vehicle Type: Electric\n",
      "Make: BMW, Model: I8\n"
     ]
    }
   ],
   "source": [
    "obj1= ElectricCar(\"BMW\", \"I8\", 100)\n",
    "obj1.display_battery()\n",
    "obj1.display_type()\n",
    "obj1.display_model()"
   ]
  },
  {
   "cell_type": "code",
   "execution_count": 11,
   "id": "a65d23d5-8033-4f4d-b32a-9c2daf8ff157",
   "metadata": {},
   "outputs": [
    {
     "name": "stdout",
     "output_type": "stream",
     "text": [
      "Vehicle of type 'Petrol' created.\n",
      "Car: Toyota Hycross\n",
      "Make: Toyota, Model: Hycross\n",
      "Vehicle Type: Petrol\n"
     ]
    }
   ],
   "source": [
    "obj = Car(\"Petrol\", \"Toyota\", \"Hycross\")\n",
    "obj.display_model()\n",
    "obj.display_type()"
   ]
  },
  {
   "cell_type": "markdown",
   "id": "03b1762b-cff4-4183-be66-6a602a8be998",
   "metadata": {},
   "source": [
    "# 4.  Demonstrate polymorphism by creating a base class Bird with a method fly(). Create two derived classes Sparrow and Penguin that override the fly() method."
   ]
  },
  {
   "cell_type": "code",
   "execution_count": 12,
   "id": "c7a377e7-4c9e-407c-beba-5d46e3bc41b1",
   "metadata": {},
   "outputs": [],
   "source": [
    "class Bird:\n",
    "    def fly(self):\n",
    "        print(\"Birds are flying\")\n",
    "\n",
    "class Sparrow(Bird):\n",
    "    def fly(self):\n",
    "        print(\"Sparrow is flying\")\n",
    "\n",
    "class Penguine(Bird):\n",
    "    def fly(self):\n",
    "        print(\"Penguuine can not fly\")"
   ]
  },
  {
   "cell_type": "code",
   "execution_count": 14,
   "id": "65c4762b-3b19-41c3-9e04-f2b674937d89",
   "metadata": {},
   "outputs": [
    {
     "name": "stdout",
     "output_type": "stream",
     "text": [
      "Birds are flying\n",
      "Sparrow is flying\n",
      "Penguuine can not fly\n"
     ]
    }
   ],
   "source": [
    "obj = Bird()\n",
    "obj.fly()\n",
    "obj1 = Sparrow()\n",
    "obj1.fly()\n",
    "obj2 = Penguine()\n",
    "obj2.fly()"
   ]
  },
  {
   "cell_type": "markdown",
   "id": "5d487cd6-504a-4b52-a7c0-66b46165ec00",
   "metadata": {},
   "source": [
    "# 5.  Write a program to demonstrate encapsulation by creating a class BankAccount with private attributes balance and methods to deposit, withdraw, and check balance."
   ]
  },
  {
   "cell_type": "code",
   "execution_count": 15,
   "id": "68db8071-e699-453c-b7fe-7fb065781f1b",
   "metadata": {},
   "outputs": [],
   "source": [
    "class BankAccount:\n",
    "    def __init__(self, balance):\n",
    "        self.__balance = balance\n",
    "    def deposite(self, amount):\n",
    "        self.amount = amount\n",
    "        self.__balance = self.__balance + amount\n",
    "    def withdraw(self, amount):\n",
    "        self.amount = amount\n",
    "        self.__balance = self.__balance - amount\n",
    "    def check_balance(self):\n",
    "        return self.__balance"
   ]
  },
  {
   "cell_type": "code",
   "execution_count": 16,
   "id": "c00421b2-14a2-4d21-8cb9-3fe9222223d0",
   "metadata": {},
   "outputs": [
    {
     "data": {
      "text/plain": [
       "1000"
      ]
     },
     "execution_count": 16,
     "metadata": {},
     "output_type": "execute_result"
    }
   ],
   "source": [
    "a = BankAccount(1000)\n",
    "a.check_balance()"
   ]
  },
  {
   "cell_type": "code",
   "execution_count": 17,
   "id": "3cf93ba3-e6a0-409c-971b-3f4511c8513d",
   "metadata": {},
   "outputs": [],
   "source": [
    "a.deposite(1500)"
   ]
  },
  {
   "cell_type": "code",
   "execution_count": 18,
   "id": "3d3f6f0c-9e18-42e3-8282-2e9a8f17ceff",
   "metadata": {},
   "outputs": [
    {
     "data": {
      "text/plain": [
       "2500"
      ]
     },
     "execution_count": 18,
     "metadata": {},
     "output_type": "execute_result"
    }
   ],
   "source": [
    "a.check_balance()"
   ]
  },
  {
   "cell_type": "code",
   "execution_count": 19,
   "id": "6389b943-cae9-410b-bd0f-c67f179668fa",
   "metadata": {},
   "outputs": [],
   "source": [
    "a.withdraw(1000)"
   ]
  },
  {
   "cell_type": "code",
   "execution_count": 20,
   "id": "bac8a044-312e-4b5e-8efd-9f40c1f1f12d",
   "metadata": {},
   "outputs": [
    {
     "data": {
      "text/plain": [
       "1500"
      ]
     },
     "execution_count": 20,
     "metadata": {},
     "output_type": "execute_result"
    }
   ],
   "source": [
    "a.check_balance()"
   ]
  },
  {
   "cell_type": "markdown",
   "id": "ae4a098b-dcf5-43a4-8de6-d972d3253e3a",
   "metadata": {},
   "source": [
    "# 6.  Demonstrate runtime polymorphism using a method play() in a base class Instrument. Derive classes Guitar and Piano that implement their own version of play()."
   ]
  },
  {
   "cell_type": "code",
   "execution_count": 21,
   "id": "c8c6abe8-16c5-49bc-acaf-22ba4216f382",
   "metadata": {},
   "outputs": [],
   "source": [
    "class Instrument:\n",
    "    def play(self):\n",
    "        print(\"Playing some instrument...\")\n",
    "\n",
    "class Guitar(Instrument):\n",
    "    def play(self):\n",
    "        print(\"Strumming the guitar \")\n",
    "\n",
    "class Piano(Instrument):\n",
    "    def play(self):\n",
    "        print(\"Playing the piano \")\n",
    "    def perform(instrument):\n",
    "        instrument.play()"
   ]
  },
  {
   "cell_type": "code",
   "execution_count": 22,
   "id": "57b326d7-898b-42f8-b7d0-140bfc0b55b6",
   "metadata": {},
   "outputs": [
    {
     "name": "stdout",
     "output_type": "stream",
     "text": [
      "Playing some instrument...\n",
      "Strumming the guitar \n",
      "Playing the piano \n",
      "Playing the piano \n"
     ]
    }
   ],
   "source": [
    "a = Instrument()\n",
    "a.play()\n",
    "b = Guitar()\n",
    "b.play()\n",
    "c = Piano()\n",
    "c.play()\n",
    "c.perform()"
   ]
  },
  {
   "cell_type": "markdown",
   "id": "24eb119e-a108-4749-ac74-dc24f1af729f",
   "metadata": {},
   "source": [
    "# 7.  Create a class MathOperations with a class method add_numbers() to add two numbers and a static method subtract_numbers() to subtract two numbers."
   ]
  },
  {
   "cell_type": "code",
   "execution_count": 23,
   "id": "98507e70-4613-4f56-ae0f-a0f202c6b39f",
   "metadata": {},
   "outputs": [],
   "source": [
    "class MathOperations:\n",
    "    @classmethod\n",
    "    def add_numbers(cls, a, b):\n",
    "        return a + b\n",
    "\n",
    "    @staticmethod\n",
    "    def subtract_numbers(a, b):\n",
    "        return a - b"
   ]
  },
  {
   "cell_type": "code",
   "execution_count": 24,
   "id": "e9729662-4a23-466d-b73f-1cf1b024b6a9",
   "metadata": {},
   "outputs": [
    {
     "data": {
      "text/plain": [
       "5"
      ]
     },
     "execution_count": 24,
     "metadata": {},
     "output_type": "execute_result"
    }
   ],
   "source": [
    "a = MathOperations()\n",
    "a.add_numbers(2, 3)"
   ]
  },
  {
   "cell_type": "code",
   "execution_count": 25,
   "id": "2e68f2e6-12a9-4c40-9e35-86f9a6dee08a",
   "metadata": {},
   "outputs": [
    {
     "data": {
      "text/plain": [
       "2"
      ]
     },
     "execution_count": 25,
     "metadata": {},
     "output_type": "execute_result"
    }
   ],
   "source": [
    "a.subtract_numbers(10,8)"
   ]
  },
  {
   "cell_type": "markdown",
   "id": "f91a68e7-f98d-4000-b54a-993d79729ac0",
   "metadata": {},
   "source": [
    "# 8.  Implement a class Person with a class method to count the total number of persons created."
   ]
  },
  {
   "cell_type": "code",
   "execution_count": 26,
   "id": "5d22e51c-e751-450b-8aae-da9e87fba2d7",
   "metadata": {},
   "outputs": [],
   "source": [
    "class Person:\n",
    "    count = 0\n",
    "\n",
    "    def __init__(self, name):\n",
    "        self.name = name\n",
    "        Person.count = Person.count + 1\n",
    "\n",
    "    @classmethod\n",
    "    def total_persons(cls):\n",
    "        return cls.count"
   ]
  },
  {
   "cell_type": "code",
   "execution_count": 27,
   "id": "e139e38b-64b3-4421-956f-e55931a6262f",
   "metadata": {},
   "outputs": [
    {
     "data": {
      "text/plain": [
       "2"
      ]
     },
     "execution_count": 27,
     "metadata": {},
     "output_type": "execute_result"
    }
   ],
   "source": [
    "a = Person(\"Ashish\")\n",
    "b = Person(\"Vikas\")\n",
    "Person.total_persons()"
   ]
  },
  {
   "cell_type": "markdown",
   "id": "600bd40f-1d63-4eeb-8b81-9877319b5f02",
   "metadata": {},
   "source": [
    "# 9.  Write a class Fraction with attributes numerator and denominator. Override the str method to display the fraction as \"numerator/denominator\"."
   ]
  },
  {
   "cell_type": "code",
   "execution_count": 28,
   "id": "cce3b876-44f0-4e54-be4a-a8be7a3bd481",
   "metadata": {},
   "outputs": [],
   "source": [
    "class Fraction:\n",
    "    def __init__(self, numerator, denominator):\n",
    "        self.numerator = numerator\n",
    "        self.denominator = denominator\n",
    "\n",
    "    def __str__(self):\n",
    "        return f\"{self.numerator}/{self.denominator}\""
   ]
  },
  {
   "cell_type": "code",
   "execution_count": 29,
   "id": "9e6d7f46-860a-46ce-beb5-327caa249ef4",
   "metadata": {},
   "outputs": [],
   "source": [
    "a = Fraction(\"Ashish\", \"Jadiya\")"
   ]
  },
  {
   "cell_type": "code",
   "execution_count": 30,
   "id": "bb2a4ff3-d6de-4a20-9e27-35f1d8a3e11a",
   "metadata": {},
   "outputs": [
    {
     "data": {
      "text/plain": [
       "'Ashish'"
      ]
     },
     "execution_count": 30,
     "metadata": {},
     "output_type": "execute_result"
    }
   ],
   "source": [
    "a.numerator"
   ]
  },
  {
   "cell_type": "code",
   "execution_count": 31,
   "id": "875b4e06-416d-478e-af98-ea5de4a03cd9",
   "metadata": {},
   "outputs": [
    {
     "data": {
      "text/plain": [
       "'Jadiya'"
      ]
     },
     "execution_count": 31,
     "metadata": {},
     "output_type": "execute_result"
    }
   ],
   "source": [
    "a.denominator"
   ]
  },
  {
   "cell_type": "markdown",
   "id": "d435bf03-a8e2-4196-b487-e1fa08a8c70d",
   "metadata": {},
   "source": [
    "# 10. Demonstrate operator overloading by creating a class Vector and overriding the add method to add two vectors."
   ]
  },
  {
   "cell_type": "code",
   "execution_count": 32,
   "id": "d9e7b9f6-727a-4744-a33c-0957d3082651",
   "metadata": {},
   "outputs": [],
   "source": [
    "class Vector:\n",
    "    def __init__(self, num1, num2):\n",
    "        self.num1 = num1\n",
    "        self.num2 = num2\n",
    "\n",
    "    def __str__(self):\n",
    "        return f\"({self.num1}, {self.num2})\"\n",
    "\n",
    "    def __add__(self, other):\n",
    "        return Vector(self.num1 + other.num1, self.num2 + other.num2)"
   ]
  },
  {
   "cell_type": "code",
   "execution_count": 33,
   "id": "c262355d-e4e2-4a84-8f22-4e39ed727c9e",
   "metadata": {},
   "outputs": [
    {
     "name": "stdout",
     "output_type": "stream",
     "text": [
      "(2, 3)\n",
      "(3, 4)\n",
      "(5, 7)\n"
     ]
    }
   ],
   "source": [
    "a1 = Vector(2, 3)\n",
    "a2 = Vector(3, 4)\n",
    "a3 = a1 + a2\n",
    "\n",
    "print(a1)\n",
    "print(a2)\n",
    "print(a3)"
   ]
  },
  {
   "cell_type": "markdown",
   "id": "1c2affdc-8ef6-42b0-852a-d8e3b2e6b22e",
   "metadata": {},
   "source": [
    "# 11.  Create a class Person with attributes name and age. Add a method greet() that prints \"Hello, my name is {name} and I am {age} years old.\""
   ]
  },
  {
   "cell_type": "code",
   "execution_count": 34,
   "id": "ff86eebe-aa4c-4832-83a2-ed1cfa644eed",
   "metadata": {},
   "outputs": [],
   "source": [
    "class Person:\n",
    "    def __init__(self, name, age):\n",
    "        self.name = name\n",
    "        self.age = age\n",
    "\n",
    "    def greet(self):\n",
    "        print(f\"Hello, my name is {self.name} and I am {self.age} years old.\")"
   ]
  },
  {
   "cell_type": "code",
   "execution_count": 35,
   "id": "c0353aef-e5f5-49b9-82b3-0b80eead5a92",
   "metadata": {},
   "outputs": [
    {
     "name": "stdout",
     "output_type": "stream",
     "text": [
      "Hello, my name is Ashish and I am 27 years old.\n"
     ]
    }
   ],
   "source": [
    "obj = Person(\"Ashish\", 27)\n",
    "obj.greet()"
   ]
  },
  {
   "cell_type": "markdown",
   "id": "089613cb-2e84-419e-ae5d-630f38139f24",
   "metadata": {},
   "source": [
    "# 12.  Implement a class Student with attributes name and grades. Create a method average_grade() to compute the average of the grades."
   ]
  },
  {
   "cell_type": "code",
   "execution_count": 36,
   "id": "e6cd2367-f75d-4d9a-b9e8-a422f477746c",
   "metadata": {},
   "outputs": [],
   "source": [
    "class Student:\n",
    "    def __init__(self, name, grades):\n",
    "        self.name = name\n",
    "        self.grades = grades\n",
    "\n",
    "    def average_grade(self):\n",
    "        if len(self.grades) == 0:\n",
    "            return 0\n",
    "        return sum(self.grades) / len(self.grades)  "
   ]
  },
  {
   "cell_type": "code",
   "execution_count": 37,
   "id": "2be95083-3adf-4478-b540-032e3b7bc023",
   "metadata": {},
   "outputs": [
    {
     "name": "stdout",
     "output_type": "stream",
     "text": [
      "Student Name: Ashish\n",
      "Grades: [85, 90, 78, 92]\n",
      "Average Grade: 86.25\n"
     ]
    }
   ],
   "source": [
    "student1 = Student(\"Ashish\", [85, 90, 78, 92])\n",
    "print(f\"Student Name: {student1.name}\")\n",
    "print(f\"Grades: {student1.grades}\")\n",
    "print(f\"Average Grade: {student1.average_grade():.2f}\")"
   ]
  },
  {
   "cell_type": "markdown",
   "id": "7e8f64ea-00de-4a78-ab0e-07269e13e011",
   "metadata": {},
   "source": [
    "# 13. . Create a class Rectangle with methods set_dimensions() to set the dimensions and area() to calculate the area."
   ]
  },
  {
   "cell_type": "code",
   "execution_count": 38,
   "id": "c0f1b3bd-bc29-4666-b3d1-0f911f7d2975",
   "metadata": {},
   "outputs": [],
   "source": [
    "class Rectangle:\n",
    "    def __init__(self):\n",
    "        self.length = 0\n",
    "        self.width = 0\n",
    "\n",
    "    def set_dimensions(self, length, width):\n",
    "        self.length = length\n",
    "        self.width = width\n",
    "\n",
    "    def area(self):\n",
    "        return self.length * self.width"
   ]
  },
  {
   "cell_type": "code",
   "execution_count": 39,
   "id": "16f18f2d-e65a-4e81-8891-ed0e8de5703d",
   "metadata": {},
   "outputs": [
    {
     "name": "stdout",
     "output_type": "stream",
     "text": [
      "Area of rectangle: 50\n"
     ]
    }
   ],
   "source": [
    "rect = Rectangle()\n",
    "rect.set_dimensions(10, 5)\n",
    "print(\"Area of rectangle:\", rect.area())"
   ]
  },
  {
   "cell_type": "markdown",
   "id": "d4a4dbac-811c-406e-ad66-8c09e8da5566",
   "metadata": {},
   "source": [
    "# 14.  Create a class Employee with a method calculate_salary() that computes the salary based on hours worked and hourly rate. Create a derived class Manager that adds a bonus to the salary."
   ]
  },
  {
   "cell_type": "code",
   "execution_count": 40,
   "id": "9d288d05-d5ea-4377-8a51-ee7d96b1c25f",
   "metadata": {},
   "outputs": [],
   "source": [
    "class Employee:\n",
    "    def __init__(self, name, hours_worked, hourly_rate):\n",
    "        self.name = name\n",
    "        self.hours_worked = hours_worked\n",
    "        self.hourly_rate = hourly_rate\n",
    "\n",
    "    def calculate_salary(self):\n",
    "        return self.hours_worked * self.hourly_rate\n",
    "\n",
    "\n",
    "class Manager(Employee):\n",
    "    def __init__(self, name, hours_worked, hourly_rate, bonus):\n",
    "        super().__init__(name, hours_worked, hourly_rate)\n",
    "        self.bonus = bonus\n",
    "\n",
    "    def calculate_salary(self):\n",
    "        base_salary = super().calculate_salary()\n",
    "        return base_salary + self.bonus"
   ]
  },
  {
   "cell_type": "code",
   "execution_count": 41,
   "id": "2f5758ca-923b-4518-a104-d95f7cbfeaf9",
   "metadata": {},
   "outputs": [
    {
     "name": "stdout",
     "output_type": "stream",
     "text": [
      "Amit's Salary: $800\n",
      "Ashish's Salary (with bonus): $1850\n"
     ]
    }
   ],
   "source": [
    "emp = Employee(\"Amit\", 40, 20)\n",
    "manger = Manager(\"Ashish\", 45, 30, 500)\n",
    "\n",
    "print(f\"{emp.name}'s Salary: ${emp.calculate_salary()}\")\n",
    "print(f\"{manger.name}'s Salary (with bonus): ${manger.calculate_salary()}\")\n"
   ]
  },
  {
   "cell_type": "markdown",
   "id": "b040835a-fba9-406f-bdc7-6994d2cd6f7b",
   "metadata": {},
   "source": [
    "# 15.  Create a class Product with attributes name, price, and quantity. Implement a method total_price() that calculates the total price of the product."
   ]
  },
  {
   "cell_type": "code",
   "execution_count": 42,
   "id": "594d07aa-0b04-4b94-9151-b719644229f8",
   "metadata": {},
   "outputs": [],
   "source": [
    "class Product:\n",
    "    def __init__(self, name, price, quantity):\n",
    "        self.name = name\n",
    "        self.price = price\n",
    "        self.quantity = quantity\n",
    "\n",
    "    def total_price(self):\n",
    "        return self.price * self.quantity"
   ]
  },
  {
   "cell_type": "code",
   "execution_count": 43,
   "id": "50e4b9b7-5998-47b2-9367-4920efe79c61",
   "metadata": {},
   "outputs": [
    {
     "name": "stdout",
     "output_type": "stream",
     "text": [
      "Total price of Laptop: ₹100000\n",
      "Total price of Headphones: ₹4500\n"
     ]
    }
   ],
   "source": [
    "p1 = Product(\"Laptop\", 50000, 2)\n",
    "p2 = Product(\"Headphones\", 1500, 3)\n",
    "\n",
    "print(f\"Total price of {p1.name}: ₹{p1.total_price()}\")\n",
    "print(f\"Total price of {p2.name}: ₹{p2.total_price()}\")"
   ]
  },
  {
   "cell_type": "markdown",
   "id": "36b8a1f3-cf0d-4d1a-ae02-d1c5f728df55",
   "metadata": {},
   "source": [
    "# 16.  Create a class Animal with an abstract method sound(). Create two derived classes Cow and Sheep that implement the sound() method."
   ]
  },
  {
   "cell_type": "code",
   "execution_count": 44,
   "id": "5b928521-19d0-46a1-a604-4eebc222448c",
   "metadata": {},
   "outputs": [],
   "source": [
    "import abc \n",
    "class Animal:\n",
    "    @abc.abstractmethod\n",
    "    def sound(self):\n",
    "        pass\n",
    "\n",
    "class Cow(Animal):\n",
    "    def sound(self):\n",
    "        return \"Moo\"\n",
    "\n",
    "class Sheep(Animal):\n",
    "    def sound(self):\n",
    "        return \"Baa\""
   ]
  },
  {
   "cell_type": "code",
   "execution_count": 45,
   "id": "6c572d84-fb9d-4182-8d87-3bf78c140962",
   "metadata": {},
   "outputs": [
    {
     "data": {
      "text/plain": [
       "'Moo'"
      ]
     },
     "execution_count": 45,
     "metadata": {},
     "output_type": "execute_result"
    }
   ],
   "source": [
    "a = Cow()\n",
    "a.sound()"
   ]
  },
  {
   "cell_type": "code",
   "execution_count": 46,
   "id": "4b7f1a85-2167-43bd-8ff4-b3e212b69453",
   "metadata": {},
   "outputs": [
    {
     "data": {
      "text/plain": [
       "'Baa'"
      ]
     },
     "execution_count": 46,
     "metadata": {},
     "output_type": "execute_result"
    }
   ],
   "source": [
    "b = Sheep()\n",
    "b.sound()"
   ]
  },
  {
   "cell_type": "markdown",
   "id": "c00f84d4-8b08-4a00-9ad8-05aad1a868e4",
   "metadata": {},
   "source": [
    "# 17.  Create a class Book with attributes title, author, and year_published. Add a method get_book_info() that returns a formatted string with the book's details."
   ]
  },
  {
   "cell_type": "code",
   "execution_count": 47,
   "id": "578af388-e1b1-4703-83a3-eb26a8cc0d30",
   "metadata": {},
   "outputs": [],
   "source": [
    "class Book:\n",
    "    def __init__(self, title, author, year_published):\n",
    "        self.title = title\n",
    "        self.author = author\n",
    "        self.year_published = year_published\n",
    "\n",
    "    def get_book_info(self):\n",
    "        return f\"'{self.title}' by {self.author}, published in {self.year_published}\""
   ]
  },
  {
   "cell_type": "code",
   "execution_count": 48,
   "id": "9a3abab3-baf0-4932-9d91-f45afe7e6693",
   "metadata": {},
   "outputs": [
    {
     "name": "stdout",
     "output_type": "stream",
     "text": [
      "'The Phoenix and the Turtle' by wiiliam Shakespear, published in 1601\n"
     ]
    }
   ],
   "source": [
    "book1 = Book(\"The Phoenix and the Turtle\", \"wiiliam Shakespear\",\t1601)\n",
    "print(book1.get_book_info())\n"
   ]
  },
  {
   "cell_type": "markdown",
   "id": "c118aa6a-b475-4fa8-b714-a6ddfa169f9b",
   "metadata": {},
   "source": [
    "# 18.  Create a class House with attributes address and price. Create a derived class Mansion that adds an attribute number_of_rooms."
   ]
  },
  {
   "cell_type": "code",
   "execution_count": 49,
   "id": "bf8d45e7-151e-4153-86de-ee1cf6f7fb3c",
   "metadata": {},
   "outputs": [],
   "source": [
    "class House:\n",
    "    def __init__(self, address, price):\n",
    "        self.address = address\n",
    "        self.price = price\n",
    "\n",
    "    def get_info(self):\n",
    "        return f\"House located at {self.address}, Price: {self.price}\"\n",
    "\n",
    "class Mansion(House):\n",
    "    def __init__(self, address, price, number_of_rooms):\n",
    "        super().__init__(address, price)\n",
    "        self.number_of_rooms = number_of_rooms\n",
    "\n",
    "    def get_info(self):\n",
    "        return (f\"Mansion located at {self.address}, Price: {self.price}, \"\n",
    "                f\"Rooms: {self.number_of_rooms}\")"
   ]
  },
  {
   "cell_type": "code",
   "execution_count": 50,
   "id": "08a50977-9f06-4d9d-b1c9-b9a3bf224d65",
   "metadata": {},
   "outputs": [
    {
     "name": "stdout",
     "output_type": "stream",
     "text": [
      "House located at 123 Main St, Price: 500000\n",
      "Mansion located at 456 Luxury Ave, Price: 5000000, Rooms: 15\n"
     ]
    }
   ],
   "source": [
    "H = House(\"123 Main St\", 500000)\n",
    "print(H.get_info())\n",
    "\n",
    "M = Mansion(\"456 Luxury Ave\", 5000000, 15)\n",
    "print(M.get_info())"
   ]
  },
  {
   "cell_type": "code",
   "execution_count": null,
   "id": "44eecb64-5395-4ecd-b6f9-09af6567056b",
   "metadata": {},
   "outputs": [],
   "source": []
  }
 ],
 "metadata": {
  "kernelspec": {
   "display_name": "Python [conda env:base] *",
   "language": "python",
   "name": "conda-base-py"
  },
  "language_info": {
   "codemirror_mode": {
    "name": "ipython",
    "version": 3
   },
   "file_extension": ".py",
   "mimetype": "text/x-python",
   "name": "python",
   "nbconvert_exporter": "python",
   "pygments_lexer": "ipython3",
   "version": "3.13.5"
  }
 },
 "nbformat": 4,
 "nbformat_minor": 5
}
